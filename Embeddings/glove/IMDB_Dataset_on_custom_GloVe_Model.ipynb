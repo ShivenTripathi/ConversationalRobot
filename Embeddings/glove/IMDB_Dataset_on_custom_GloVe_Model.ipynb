{
  "nbformat": 4,
  "nbformat_minor": 0,
  "metadata": {
    "accelerator": "GPU",
    "colab": {
      "name": "IMDB Dataset on custom GloVe Model",
      "provenance": [],
      "collapsed_sections": []
    },
    "kernelspec": {
      "display_name": "Python 3",
      "name": "python3"
    }
  },
  "cells": [
    {
      "cell_type": "markdown",
      "metadata": {
        "colab_type": "text",
        "id": "view-in-github"
      },
      "source": [
        "<a href=\"https://colab.research.google.com/github/lmoroney/dlaicourse/blob/master/TensorFlow%20In%20Practice/Course%203%20-%20NLP/Course%203%20-%20Week%202%20-%20Exercise%20-%20Answer.ipynb\" target=\"_parent\"><img src=\"https://colab.research.google.com/assets/colab-badge.svg\" alt=\"Open In Colab\"/></a>"
      ]
    },
    {
      "cell_type": "markdown",
      "metadata": {
        "colab_type": "text",
        "id": "rX8mhOLljYeM"
      },
      "source": [
        "##### Copyright 2019 The TensorFlow Authors."
      ]
    },
    {
      "cell_type": "code",
      "metadata": {
        "cellView": "form",
        "colab_type": "code",
        "id": "BZSlp3DAjdYf",
        "colab": {}
      },
      "source": [
        "#@title Licensed under the Apache License, Version 2.0 (the \"License\");\n",
        "# you may not use this file except in compliance with the License.\n",
        "# You may obtain a copy of the License at\n",
        "#\n",
        "# https://www.apache.org/licenses/LICENSE-2.0\n",
        "#\n",
        "# Unless required by applicable law or agreed to in writing, software\n",
        "# distributed under the License is distributed on an \"AS IS\" BASIS,\n",
        "# WITHOUT WARRANTIES OR CONDITIONS OF ANY KIND, either express or implied.\n",
        "# See the License for the specific language governing permissions and\n",
        "# limitations under the License."
      ],
      "execution_count": 0,
      "outputs": []
    },
    {
      "cell_type": "code",
      "metadata": {
        "colab_type": "code",
        "id": "gnwiOnGyW5JK",
        "colab": {}
      },
      "source": [
        "import numpy as np\n",
        "from keras.layers import Input, Embedding, Dot, Reshape, Add\n",
        "from keras.models import Model\n",
        "from keras.optimizers import Adam\n",
        "import keras.backend as K\n",
        "import nltk\n",
        "from nltk.corpus import brown"
      ],
      "execution_count": 0,
      "outputs": []
    },
    {
      "cell_type": "code",
      "metadata": {
        "colab_type": "code",
        "id": "EYo6A4v5ZABQ",
        "outputId": "1ae47324-7884-4091-b824-56317901b2fd",
        "colab": {
          "base_uri": "https://localhost:8080/",
          "height": 68
        }
      },
      "source": [
        "nltk.download('brown')\n",
        "data = brown.sents(categories=brown.categories())\n",
        "len(data)"
      ],
      "execution_count": 7,
      "outputs": [
        {
          "output_type": "stream",
          "text": [
            "[nltk_data] Downloading package brown to /root/nltk_data...\n",
            "[nltk_data]   Unzipping corpora/brown.zip.\n"
          ],
          "name": "stdout"
        },
        {
          "output_type": "execute_result",
          "data": {
            "text/plain": [
              "57340"
            ]
          },
          "metadata": {
            "tags": []
          },
          "execution_count": 7
        }
      ]
    },
    {
      "cell_type": "code",
      "metadata": {
        "colab_type": "code",
        "id": "iU1qq3_SZBx_",
        "colab": {}
      },
      "source": [
        "sentences=[]\n",
        "stopwords_ = [ \"a\", \"about\", \"above\", \"after\", \"again\", \"against\", \"all\", \"am\", \"an\", \"and\", \"any\", \"are\", \"as\", \"at\", \"be\", \"because\", \"been\", \"before\", \"being\", \"below\", \"between\", \"both\", \"but\", \"by\", \"could\", \"did\", \"do\", \"does\", \"doing\", \"down\", \"during\", \"each\", \"few\", \"for\", \"from\", \"further\", \"had\", \"has\", \"have\", \"having\", \"he\", \"he'd\", \"he'll\", \"he's\", \"her\", \"here\", \"here's\", \"hers\", \"herself\", \"him\", \"himself\", \"his\", \"how\", \"how's\", \"i\", \"i'd\", \"i'll\", \"i'm\", \"i've\", \"if\", \"in\", \"into\", \"is\", \"it\", \"it's\", \"its\", \"itself\", \"let's\", \"me\", \"more\", \"most\", \"my\", \"myself\", \"nor\", \"of\", \"on\", \"once\", \"only\", \"or\", \"other\", \"ought\", \"our\", \"ours\", \"ourselves\", \"out\", \"over\", \"own\", \"same\", \"she\", \"she'd\", \"she'll\", \"she's\", \"should\", \"so\", \"some\", \"such\", \"than\", \"that\", \"that's\", \"the\", \"their\", \"theirs\", \"them\", \"themselves\", \"then\", \"there\", \"there's\", \"these\", \"they\", \"they'd\", \"they'll\", \"they're\", \"they've\", \"this\", \"those\", \"through\", \"to\", \"too\", \"under\", \"until\", \"up\", \"very\", \"was\", \"we\", \"we'd\", \"we'll\", \"we're\", \"we've\", \"were\", \"what\", \"what's\", \"when\", \"when's\", \"where\", \"where's\", \"which\", \"while\", \"who\", \"who's\", \"whom\", \"why\", \"why's\", \"with\", \"would\", \"you\", \"you'd\", \"you'll\", \"you're\", \"you've\", \"your\", \"yours\", \"yourself\", \"yourselves\" ]\n",
        "punctuation = ['!','\"','#','$','%','&',\"'\",'(',')','*','+',',','-','.','/',':',';','<','=','>','?','@','[','\\\\',']','^','_','`','{','|','}','~','``',\"''\",'--']\n",
        "for sentence in data:\n",
        "    for word in stopwords_:\n",
        "        token=\" \"+word+\" \"\n",
        "        sentence=[item.replace(token,\" \") for item in sentence]\n",
        "    sentences.append(sentence)\n"
      ],
      "execution_count": 0,
      "outputs": []
    },
    {
      "cell_type": "code",
      "metadata": {
        "colab_type": "code",
        "id": "eutB2xMiZD0e",
        "outputId": "7cb61a54-a4ea-4ae9-b1d4-8991983a059d",
        "colab": {
          "base_uri": "https://localhost:8080/",
          "height": 54
        }
      },
      "source": [
        "for i in range(len(sentences)):\n",
        "    sentences[i]=[item.lower() for item in sentences[i]]\n",
        "    sentences[i]=[item*(len(item)>2) for item in sentences[i]]\n",
        "    for pun in punctuation:\n",
        "        sentences[i]=[item.replace(pun,\"\") for item in sentences[i]]\n",
        "        sentences[i]=[item for item in sentences[i] if item]\n",
        "print(sentences[100])"
      ],
      "execution_count": 9,
      "outputs": [
        {
          "output_type": "stream",
          "text": [
            "['daniel', 'personally', 'led', 'the', 'fight', 'for', 'the', 'measure', 'which', 'had', 'watered', 'down', 'considerably', 'since', 'its', 'rejection', 'two', 'previous', 'legislatures', 'public', 'hearing', 'before', 'the', 'house', 'committee', 'revenue', 'and', 'taxation']\n"
          ],
          "name": "stdout"
        }
      ]
    },
    {
      "cell_type": "code",
      "metadata": {
        "colab_type": "code",
        "id": "XfdaWh06ZGe3",
        "colab": {}
      },
      "source": [
        "from tensorflow.keras.preprocessing.text import Tokenizer\n",
        "from tensorflow.keras.preprocessing.sequence import pad_sequences"
      ],
      "execution_count": 0,
      "outputs": []
    },
    {
      "cell_type": "code",
      "metadata": {
        "colab_type": "code",
        "id": "ULzA8xhwZI22",
        "colab": {}
      },
      "source": [
        "vocab_size=10000\n",
        "vector_dim=200\n",
        "maxlen=20\n",
        "windowSize=3"
      ],
      "execution_count": 0,
      "outputs": []
    },
    {
      "cell_type": "code",
      "metadata": {
        "colab_type": "code",
        "id": "c8PeFWzPZLW_",
        "colab": {}
      },
      "source": [
        "tokenizer = Tokenizer(num_words = vocab_size, oov_token=\"<OOV>\")\n",
        "tokenizer.fit_on_texts(sentences)\n",
        "word_index = tokenizer.word_index"
      ],
      "execution_count": 0,
      "outputs": []
    },
    {
      "cell_type": "code",
      "metadata": {
        "colab_type": "code",
        "id": "XkWiQ_FKZNp2",
        "colab": {}
      },
      "source": [
        "sequences = tokenizer.texts_to_sequences(sentences)\n",
        "sequences_padded = pad_sequences(sequences, padding='post', maxlen=maxlen)\n"
      ],
      "execution_count": 0,
      "outputs": []
    },
    {
      "cell_type": "code",
      "metadata": {
        "id": "3jFwm_Gs7tDU",
        "colab_type": "code",
        "outputId": "465ae8c3-790b-4cff-ba9c-a5c39f3279e0",
        "colab": {
          "base_uri": "https://localhost:8080/",
          "height": 136
        }
      },
      "source": [
        "print(sentences[4000])\n",
        "print(sequences[4000])\n",
        "print(sequences_padded[4000])\n",
        "print(len(sentences[4000]))\n",
        "print(len(sequences[4000]))\n",
        "print(len(sequences_padded[4000]))"
      ],
      "execution_count": 24,
      "outputs": [
        {
          "output_type": "stream",
          "text": [
            "['ruths', 'day', 'and', 'until', 'this', 'year', 'the', 'schedule', 'was', '154', 'games']\n",
            "[9177, 108, 3, 161, 9, 117, 2, 2968, 5, 1, 1826]\n",
            "[9177  108    3  161    9  117    2 2968    5    1 1826    0    0    0\n",
            "    0    0    0    0    0    0]\n",
            "11\n",
            "11\n",
            "20\n"
          ],
          "name": "stdout"
        }
      ]
    },
    {
      "cell_type": "code",
      "metadata": {
        "id": "xNjy7AzL7tOx",
        "colab_type": "code",
        "colab": {}
      },
      "source": [
        "from collections import defaultdict\n",
        "co_matrix = defaultdict(lambda: defaultdict(int))"
      ],
      "execution_count": 0,
      "outputs": []
    },
    {
      "cell_type": "code",
      "metadata": {
        "id": "UjMRuQEY7tYR",
        "colab_type": "code",
        "colab": {}
      },
      "source": [
        "for sentence in sequences_padded:\n",
        "    sentence_size=len(sentence)\n",
        "    for i in range(sentence_size):\n",
        "        for distance in range(1,windowSize+1):\n",
        "            if i+distance<sentence_size:\n",
        "                if sentence[i]>sentence[i+distance]:\n",
        "                    first=sentence[i+distance]\n",
        "                    second=sentence[i]\n",
        "                else:\n",
        "                    second=sentence[i+distance]\n",
        "                    first=sentence[i]\n",
        "                co_matrix[first][second]+=1.0/distance"
      ],
      "execution_count": 0,
      "outputs": []
    },
    {
      "cell_type": "code",
      "metadata": {
        "id": "KdeWp3Fq7qzQ",
        "colab_type": "code",
        "colab": {}
      },
      "source": [
        "first,second,freqs=[],[],[]\n",
        "for first_id in co_matrix.keys():\n",
        "    for second_id in co_matrix[first_id].keys():\n",
        "        freq=co_matrix[first_id][second_id]\n",
        "        first.append(first_id)\n",
        "        second.append(second_id)\n",
        "        freqs.append(freq)\n",
        "        first.append(second_id)\n",
        "        second.append(first_id)\n",
        "        freqs.append(freq)\n",
        "first=np.array(first)\n",
        "second=np.array(second)\n",
        "freqs=np.array(freqs)"
      ],
      "execution_count": 0,
      "outputs": []
    },
    {
      "cell_type": "code",
      "metadata": {
        "id": "jKn2QPAq77Oq",
        "colab_type": "code",
        "outputId": "d13305f6-2d27-4c7a-de76-f9cf4a32970e",
        "colab": {
          "base_uri": "https://localhost:8080/",
          "height": 68
        }
      },
      "source": [
        "print(np.shape(first))\n",
        "print(np.shape(second))\n",
        "print(np.shape(freqs))"
      ],
      "execution_count": 28,
      "outputs": [
        {
          "output_type": "stream",
          "text": [
            "(1306226,)\n",
            "(1306226,)\n",
            "(1306226,)\n"
          ],
          "name": "stdout"
        }
      ]
    },
    {
      "cell_type": "code",
      "metadata": {
        "id": "hUOPOBZ477X8",
        "colab_type": "code",
        "colab": {}
      },
      "source": [
        "#time for modelling yay!\n",
        "#shamelessly copied loss haha\n",
        "X_MAX = 100\n",
        "a = 3.0 / 4.0\n",
        "def customLoss(y_true,y_pred):\n",
        "    return K.sum(K.pow(K.clip(y_true / X_MAX, 0.0, 1.0), a) * K.square(y_pred - K.log(y_true)), axis=-1)"
      ],
      "execution_count": 0,
      "outputs": []
    },
    {
      "cell_type": "code",
      "metadata": {
        "id": "wqk7nuEz77lg",
        "colab_type": "code",
        "colab": {}
      },
      "source": [
        "input_target = Input((1,))\n",
        "input_context = Input((1,))\n",
        "\n",
        "central_embedding = Embedding(vocab_size, vector_dim, input_length=1,name='cen_e')\n",
        "central_bias = Embedding(vocab_size, 1, input_length=1)\n",
        "\n",
        "context_embedding = Embedding(vocab_size, vector_dim, input_length=1,name='con_e')\n",
        "context_bias = Embedding(vocab_size, 1, input_length=1)\n",
        "\n",
        "vector_target = central_embedding(input_target)\n",
        "vector_context = context_embedding(input_context)\n",
        "\n",
        "bias_target = central_bias(input_target)\n",
        "bias_context = context_bias(input_context)\n",
        "\n",
        "dot_product = Dot(axes=-1)([vector_target, vector_context])\n",
        "dot_product = Reshape((1, ))(dot_product)\n",
        "bias_target = Reshape((1,))(bias_target)\n",
        "bias_context = Reshape((1,))(bias_context)\n",
        "\n",
        "prediction = Add()([dot_product, bias_target, bias_context])\n",
        "\n",
        "model = Model(inputs=[input_target, input_context], outputs=prediction)\n",
        "model.compile(loss=customLoss, optimizer=Adam())"
      ],
      "execution_count": 0,
      "outputs": []
    },
    {
      "cell_type": "code",
      "metadata": {
        "id": "65CM_DBswCYK",
        "colab_type": "code",
        "colab": {}
      },
      "source": [
        "epochs=50\n",
        "batch_size=256"
      ],
      "execution_count": 0,
      "outputs": []
    },
    {
      "cell_type": "code",
      "metadata": {
        "id": "5jBpDIdqA3X2",
        "colab_type": "code",
        "outputId": "4dfaf2c6-f98f-4d14-c88c-2c705ec925a4",
        "colab": {
          "base_uri": "https://localhost:8080/",
          "height": 1000
        }
      },
      "source": [
        "model.fit([first, second], freqs, epochs=epochs, batch_size=batch_size)"
      ],
      "execution_count": 32,
      "outputs": [
        {
          "output_type": "stream",
          "text": [
            "/usr/local/lib/python3.6/dist-packages/tensorflow/python/framework/indexed_slices.py:434: UserWarning: Converting sparse IndexedSlices to a dense Tensor of unknown shape. This may consume a large amount of memory.\n",
            "  \"Converting sparse IndexedSlices to a dense Tensor of unknown shape. \"\n"
          ],
          "name": "stderr"
        },
        {
          "output_type": "stream",
          "text": [
            "Epoch 1/50\n",
            "1306226/1306226 [==============================] - 19s 15us/step - loss: 0.0505\n",
            "Epoch 2/50\n",
            "1306226/1306226 [==============================] - 18s 14us/step - loss: 0.0186\n",
            "Epoch 3/50\n",
            "1306226/1306226 [==============================] - 18s 14us/step - loss: 0.0123\n",
            "Epoch 4/50\n",
            "1306226/1306226 [==============================] - 17s 13us/step - loss: 0.0079\n",
            "Epoch 5/50\n",
            "1306226/1306226 [==============================] - 17s 13us/step - loss: 0.0055\n",
            "Epoch 6/50\n",
            "1306226/1306226 [==============================] - 17s 13us/step - loss: 0.0042\n",
            "Epoch 7/50\n",
            "1306226/1306226 [==============================] - 17s 13us/step - loss: 0.0035\n",
            "Epoch 8/50\n",
            "1306226/1306226 [==============================] - 17s 13us/step - loss: 0.0030\n",
            "Epoch 9/50\n",
            "1306226/1306226 [==============================] - 17s 13us/step - loss: 0.0027\n",
            "Epoch 10/50\n",
            "1306226/1306226 [==============================] - 17s 13us/step - loss: 0.0024\n",
            "Epoch 11/50\n",
            "1306226/1306226 [==============================] - 17s 13us/step - loss: 0.0023\n",
            "Epoch 12/50\n",
            "1306226/1306226 [==============================] - 17s 13us/step - loss: 0.0022\n",
            "Epoch 13/50\n",
            "1306226/1306226 [==============================] - 17s 13us/step - loss: 0.0021\n",
            "Epoch 14/50\n",
            "1306226/1306226 [==============================] - 17s 13us/step - loss: 0.0020\n",
            "Epoch 15/50\n",
            "1306226/1306226 [==============================] - 17s 13us/step - loss: 0.0020\n",
            "Epoch 16/50\n",
            "1306226/1306226 [==============================] - 17s 13us/step - loss: 0.0019\n",
            "Epoch 17/50\n",
            "1306226/1306226 [==============================] - 17s 13us/step - loss: 0.0019\n",
            "Epoch 18/50\n",
            "1306226/1306226 [==============================] - 17s 13us/step - loss: 0.0019\n",
            "Epoch 19/50\n",
            "1306226/1306226 [==============================] - 17s 13us/step - loss: 0.0019\n",
            "Epoch 20/50\n",
            "1306226/1306226 [==============================] - 17s 13us/step - loss: 0.0018\n",
            "Epoch 21/50\n",
            "1306226/1306226 [==============================] - 17s 13us/step - loss: 0.0018\n",
            "Epoch 22/50\n",
            "1306226/1306226 [==============================] - 17s 13us/step - loss: 0.0018\n",
            "Epoch 23/50\n",
            "1306226/1306226 [==============================] - 17s 13us/step - loss: 0.0018\n",
            "Epoch 24/50\n",
            "1306226/1306226 [==============================] - 17s 13us/step - loss: 0.0018\n",
            "Epoch 25/50\n",
            "1306226/1306226 [==============================] - 17s 13us/step - loss: 0.0018\n",
            "Epoch 26/50\n",
            "1306226/1306226 [==============================] - 17s 13us/step - loss: 0.0017\n",
            "Epoch 27/50\n",
            "1306226/1306226 [==============================] - 17s 13us/step - loss: 0.0017\n",
            "Epoch 28/50\n",
            "1306226/1306226 [==============================] - 17s 13us/step - loss: 0.0017\n",
            "Epoch 29/50\n",
            "1306226/1306226 [==============================] - 17s 13us/step - loss: 0.0017\n",
            "Epoch 30/50\n",
            "1306226/1306226 [==============================] - 17s 13us/step - loss: 0.0017\n",
            "Epoch 31/50\n",
            "1306226/1306226 [==============================] - 17s 13us/step - loss: 0.0017\n",
            "Epoch 32/50\n",
            "1306226/1306226 [==============================] - 17s 13us/step - loss: 0.0017\n",
            "Epoch 33/50\n",
            "1306226/1306226 [==============================] - 17s 13us/step - loss: 0.0017\n",
            "Epoch 34/50\n",
            "1306226/1306226 [==============================] - 17s 13us/step - loss: 0.0017\n",
            "Epoch 35/50\n",
            "1306226/1306226 [==============================] - 17s 13us/step - loss: 0.0017\n",
            "Epoch 36/50\n",
            "1306226/1306226 [==============================] - 17s 13us/step - loss: 0.0017\n",
            "Epoch 37/50\n",
            "1306226/1306226 [==============================] - 17s 13us/step - loss: 0.0017\n",
            "Epoch 38/50\n",
            "1306226/1306226 [==============================] - 17s 13us/step - loss: 0.0017\n",
            "Epoch 39/50\n",
            "1306226/1306226 [==============================] - 17s 13us/step - loss: 0.0017\n",
            "Epoch 40/50\n",
            "1306226/1306226 [==============================] - 17s 13us/step - loss: 0.0017\n",
            "Epoch 41/50\n",
            "1306226/1306226 [==============================] - 17s 13us/step - loss: 0.0016\n",
            "Epoch 42/50\n",
            "1306226/1306226 [==============================] - 17s 13us/step - loss: 0.0016\n",
            "Epoch 43/50\n",
            "1306226/1306226 [==============================] - 17s 13us/step - loss: 0.0016\n",
            "Epoch 44/50\n",
            "1306226/1306226 [==============================] - 17s 13us/step - loss: 0.0016\n",
            "Epoch 45/50\n",
            "1306226/1306226 [==============================] - 17s 13us/step - loss: 0.0016\n",
            "Epoch 46/50\n",
            "1306226/1306226 [==============================] - 17s 13us/step - loss: 0.0016\n",
            "Epoch 47/50\n",
            "1306226/1306226 [==============================] - 17s 13us/step - loss: 0.0016\n",
            "Epoch 48/50\n",
            "1306226/1306226 [==============================] - 17s 13us/step - loss: 0.0016\n",
            "Epoch 49/50\n",
            "1306226/1306226 [==============================] - 16s 13us/step - loss: 0.0016\n",
            "Epoch 50/50\n",
            "1306226/1306226 [==============================] - 17s 13us/step - loss: 0.0016\n"
          ],
          "name": "stdout"
        },
        {
          "output_type": "execute_result",
          "data": {
            "text/plain": [
              "<keras.callbacks.callbacks.History at 0x7f09131817b8>"
            ]
          },
          "metadata": {
            "tags": []
          },
          "execution_count": 32
        }
      ]
    },
    {
      "cell_type": "code",
      "metadata": {
        "id": "aMcA5Cx2vqXs",
        "colab_type": "code",
        "outputId": "0afbb3a8-6a26-4cfa-f13b-12dd440f6e6e",
        "colab": {
          "base_uri": "https://localhost:8080/",
          "height": 51
        }
      },
      "source": [
        "cen_e=central_embedding.get_weights()\n",
        "con_e=context_embedding.get_weights()\n",
        "print(np.shape(cen_e))\n",
        "print(np.shape(con_e))"
      ],
      "execution_count": 33,
      "outputs": [
        {
          "output_type": "stream",
          "text": [
            "(1, 10000, 200)\n",
            "(1, 10000, 200)\n"
          ],
          "name": "stdout"
        }
      ]
    },
    {
      "cell_type": "code",
      "metadata": {
        "id": "mfs35sMMvsU_",
        "colab_type": "code",
        "colab": {}
      },
      "source": [
        " emb_matrix = np.zeros((vocab_size,vector_dim))\n",
        " word_2_vec={}"
      ],
      "execution_count": 0,
      "outputs": []
    },
    {
      "cell_type": "code",
      "metadata": {
        "id": "diRe7PoNvvB8",
        "colab_type": "code",
        "colab": {}
      },
      "source": [
        "for i in range(vocab_size):\n",
        "    emb_matrix[i]=(con_e[0][i]+cen_e[0][i])/2\n",
        "    word_2_vec[str(tokenizer.index_word[1+i])]=emb_matrix[i]"
      ],
      "execution_count": 0,
      "outputs": []
    },
    {
      "cell_type": "code",
      "metadata": {
        "id": "mBSKucEv8D0z",
        "colab_type": "code",
        "outputId": "b5344c08-3979-4e9c-8a3d-cca2eada88ba",
        "colab": {
          "base_uri": "https://localhost:8080/",
          "height": 204
        }
      },
      "source": [
        "import csv\n",
        "import tensorflow as tf\n",
        "import numpy as np\n",
        "from tensorflow.keras.preprocessing.text import Tokenizer\n",
        "from tensorflow.keras.preprocessing.sequence import pad_sequences\n",
        "\n",
        "!wget --no-check-certificate \\\n",
        "    https://storage.googleapis.com/laurencemoroney-blog.appspot.com/bbc-text.csv \\\n",
        "    -O /tmp/bbc-text.csv\n",
        "max_length = 120\n",
        "trunc_type='post'\n",
        "padding_type='post'\n",
        "oov_tok = \"<OOV>\"\n",
        "training_portion = .8"
      ],
      "execution_count": 36,
      "outputs": [
        {
          "output_type": "stream",
          "text": [
            "--2020-05-23 08:27:01--  https://storage.googleapis.com/laurencemoroney-blog.appspot.com/bbc-text.csv\n",
            "Resolving storage.googleapis.com (storage.googleapis.com)... 74.125.20.128, 2607:f8b0:400e:c09::80\n",
            "Connecting to storage.googleapis.com (storage.googleapis.com)|74.125.20.128|:443... connected.\n",
            "HTTP request sent, awaiting response... 200 OK\n",
            "Length: 5057493 (4.8M) [application/octet-stream]\n",
            "Saving to: ‘/tmp/bbc-text.csv’\n",
            "\n",
            "\r/tmp/bbc-text.csv     0%[                    ]       0  --.-KB/s               \r/tmp/bbc-text.csv   100%[===================>]   4.82M  --.-KB/s    in 0.04s   \n",
            "\n",
            "2020-05-23 08:27:01 (122 MB/s) - ‘/tmp/bbc-text.csv’ saved [5057493/5057493]\n",
            "\n"
          ],
          "name": "stdout"
        }
      ]
    },
    {
      "cell_type": "code",
      "metadata": {
        "id": "uk7ZXjje87AZ",
        "colab_type": "code",
        "outputId": "90a4fb3a-54b3-4462-97f9-2ccaf514b29a",
        "colab": {
          "base_uri": "https://localhost:8080/",
          "height": 34
        }
      },
      "source": [
        "sentences = []\n",
        "labels = []\n",
        "stopwords = [ \"a\", \"about\", \"above\", \"after\", \"again\", \"against\", \"all\", \"am\", \"an\", \"and\", \"any\", \"are\", \"as\", \"at\", \"be\", \"because\", \"been\", \"before\", \"being\", \"below\", \"between\", \"both\", \"but\", \"by\", \"could\", \"did\", \"do\", \"does\", \"doing\", \"down\", \"during\", \"each\", \"few\", \"for\", \"from\", \"further\", \"had\", \"has\", \"have\", \"having\", \"he\", \"he'd\", \"he'll\", \"he's\", \"her\", \"here\", \"here's\", \"hers\", \"herself\", \"him\", \"himself\", \"his\", \"how\", \"how's\", \"i\", \"i'd\", \"i'll\", \"i'm\", \"i've\", \"if\", \"in\", \"into\", \"is\", \"it\", \"it's\", \"its\", \"itself\", \"let's\", \"me\", \"more\", \"most\", \"my\", \"myself\", \"nor\", \"of\", \"on\", \"once\", \"only\", \"or\", \"other\", \"ought\", \"our\", \"ours\", \"ourselves\", \"out\", \"over\", \"own\", \"same\", \"she\", \"she'd\", \"she'll\", \"she's\", \"should\", \"so\", \"some\", \"such\", \"than\", \"that\", \"that's\", \"the\", \"their\", \"theirs\", \"them\", \"themselves\", \"then\", \"there\", \"there's\", \"these\", \"they\", \"they'd\", \"they'll\", \"they're\", \"they've\", \"this\", \"those\", \"through\", \"to\", \"too\", \"under\", \"until\", \"up\", \"very\", \"was\", \"we\", \"we'd\", \"we'll\", \"we're\", \"we've\", \"were\", \"what\", \"what's\", \"when\", \"when's\", \"where\", \"where's\", \"which\", \"while\", \"who\", \"who's\", \"whom\", \"why\", \"why's\", \"with\", \"would\", \"you\", \"you'd\", \"you'll\", \"you're\", \"you've\", \"your\", \"yours\", \"yourself\", \"yourselves\" ]\n",
        "print(len(stopwords))\n",
        "# Expected Output\n",
        "# 153"
      ],
      "execution_count": 37,
      "outputs": [
        {
          "output_type": "stream",
          "text": [
            "153\n"
          ],
          "name": "stdout"
        }
      ]
    },
    {
      "cell_type": "code",
      "metadata": {
        "id": "pJ-gte5A87Lm",
        "colab_type": "code",
        "outputId": "fbf42b14-36d9-4c08-b3d1-a461e076040d",
        "colab": {
          "base_uri": "https://localhost:8080/",
          "height": 88
        }
      },
      "source": [
        "with open(\"/tmp/bbc-text.csv\", 'r') as csvfile:\n",
        "    reader = csv.reader(csvfile, delimiter=',')\n",
        "    next(reader)\n",
        "    for row in reader:\n",
        "        labels.append(row[0])\n",
        "        sentence = row[1]\n",
        "        for word in stopwords:\n",
        "            token = \" \" + word + \" \"\n",
        "            sentence = sentence.replace(token, \" \")\n",
        "        sentences.append(sentence)\n",
        "\n",
        "print(len(labels))\n",
        "print(len(sentences))\n",
        "print(sentences[0])"
      ],
      "execution_count": 38,
      "outputs": [
        {
          "output_type": "stream",
          "text": [
            "2225\n",
            "2225\n",
            "tv future hands viewers home theatre systems  plasma high-definition tvs  digital video recorders moving living room  way people watch tv will radically different five years  time.  according expert panel gathered annual consumer electronics show las vegas discuss new technologies will impact one favourite pastimes. us leading trend  programmes content will delivered viewers via home networks  cable  satellite  telecoms companies  broadband service providers front rooms portable devices.  one talked-about technologies ces digital personal video recorders (dvr pvr). set-top boxes  like us s tivo uk s sky+ system  allow people record  store  play  pause forward wind tv programmes want.  essentially  technology allows much personalised tv. also built-in high-definition tv sets  big business japan us  slower take off europe lack high-definition programming. not can people forward wind adverts  can also forget abiding network channel schedules  putting together a-la-carte entertainment. us networks cable satellite companies worried means terms advertising revenues well  brand identity  viewer loyalty channels. although us leads technology moment  also concern raised europe  particularly growing uptake services like sky+.  happens today  will see nine months years  time uk   adam hume  bbc broadcast s futurologist told bbc news website. likes bbc  no issues lost advertising revenue yet. pressing issue moment commercial uk broadcasters  brand loyalty important everyone.  will talking content brands rather network brands   said tim hanlon  brand communications firm starcom mediavest.  reality broadband connections  anybody can producer content.  added:  challenge now hard promote programme much choice.   means  said stacey jolna  senior vice president tv guide tv group  way people find content want watch simplified tv viewers. means networks  us terms  channels take leaf google s book search engine future  instead scheduler help people find want watch. kind channel model might work younger ipod generation used taking control gadgets play them. might not suit everyone  panel recognised. older generations comfortable familiar schedules channel brands know getting. perhaps not want much choice put hands  mr hanlon suggested.  end  kids just diapers pushing buttons already - everything possible available   said mr hanlon.  ultimately  consumer will tell market want.   50 000 new gadgets technologies showcased ces  many enhancing tv-watching experience. high-definition tv sets everywhere many new models lcd (liquid crystal display) tvs launched dvr capability built  instead external boxes. one example launched show humax s 26-inch lcd tv 80-hour tivo dvr dvd recorder. one us s biggest satellite tv companies  directtv  even launched branded dvr show 100-hours recording capability  instant replay  search function. set can pause rewind tv 90 hours. microsoft chief bill gates announced pre-show keynote speech partnership tivo  called tivotogo  means people can play recorded programmes windows pcs mobile devices. reflect increasing trend freeing multimedia people can watch want  want.\n"
          ],
          "name": "stdout"
        }
      ]
    },
    {
      "cell_type": "code",
      "metadata": {
        "id": "zuOybhQ887S0",
        "colab_type": "code",
        "outputId": "0d2ff064-dc1e-4cf8-9c24-478e23762185",
        "colab": {
          "base_uri": "https://localhost:8080/",
          "height": 102
        }
      },
      "source": [
        "train_size = int(len(sentences) * training_portion)\n",
        "\n",
        "train_sentences = sentences[:train_size]\n",
        "train_labels = labels[:train_size]\n",
        "\n",
        "validation_sentences = sentences[train_size:]\n",
        "validation_labels = labels[train_size:]\n",
        "\n",
        "print(train_size)\n",
        "print(len(train_sentences))\n",
        "print(len(train_labels))\n",
        "print(len(validation_sentences))\n",
        "print(len(validation_labels))"
      ],
      "execution_count": 39,
      "outputs": [
        {
          "output_type": "stream",
          "text": [
            "1780\n",
            "1780\n",
            "1780\n",
            "445\n",
            "445\n"
          ],
          "name": "stdout"
        }
      ]
    },
    {
      "cell_type": "code",
      "metadata": {
        "id": "t4oews9a87ab",
        "colab_type": "code",
        "outputId": "73450c09-7287-43e4-a8ab-e373fb73e070",
        "colab": {
          "base_uri": "https://localhost:8080/",
          "height": 119
        }
      },
      "source": [
        "tokenizer = Tokenizer(num_words = vocab_size, oov_token=oov_tok)\n",
        "tokenizer.fit_on_texts(train_sentences)\n",
        "word_index = tokenizer.word_index\n",
        "\n",
        "train_sequences = tokenizer.texts_to_sequences(train_sentences)\n",
        "train_padded = pad_sequences(train_sequences, padding=padding_type, maxlen=max_length)\n",
        "\n",
        "print(len(train_sequences[0]))\n",
        "print(len(train_padded[0]))\n",
        "\n",
        "print(len(train_sequences[1]))\n",
        "print(len(train_padded[1]))\n",
        "\n",
        "print(len(train_sequences[10]))\n",
        "print(len(train_padded[10]))"
      ],
      "execution_count": 40,
      "outputs": [
        {
          "output_type": "stream",
          "text": [
            "449\n",
            "120\n",
            "200\n",
            "120\n",
            "192\n",
            "120\n"
          ],
          "name": "stdout"
        }
      ]
    },
    {
      "cell_type": "code",
      "metadata": {
        "id": "Kjt55kv99GAo",
        "colab_type": "code",
        "outputId": "dcf8b8ea-cdc5-4c50-93e2-ee2064db25f4",
        "colab": {
          "base_uri": "https://localhost:8080/",
          "height": 51
        }
      },
      "source": [
        "validation_sequences = tokenizer.texts_to_sequences(validation_sentences)\n",
        "validation_padded = pad_sequences(validation_sequences, padding=padding_type, maxlen=max_length)\n",
        "\n",
        "print(len(validation_sequences))\n",
        "print(validation_padded.shape)"
      ],
      "execution_count": 41,
      "outputs": [
        {
          "output_type": "stream",
          "text": [
            "445\n",
            "(445, 120)\n"
          ],
          "name": "stdout"
        }
      ]
    },
    {
      "cell_type": "code",
      "metadata": {
        "id": "OSzppgTF9GOo",
        "colab_type": "code",
        "outputId": "f288cc25-f1f9-47bc-cf9b-9c2c6cd68c1a",
        "colab": {
          "base_uri": "https://localhost:8080/",
          "height": 153
        }
      },
      "source": [
        "label_tokenizer = Tokenizer()\n",
        "label_tokenizer.fit_on_texts(labels)\n",
        "\n",
        "training_label_seq = np.array(label_tokenizer.texts_to_sequences(train_labels))\n",
        "validation_label_seq = np.array(label_tokenizer.texts_to_sequences(validation_labels))\n",
        "\n",
        "print(training_label_seq[0])\n",
        "print(training_label_seq[1])\n",
        "print(training_label_seq[2])\n",
        "print(training_label_seq.shape)\n",
        "\n",
        "print(validation_label_seq[0])\n",
        "print(validation_label_seq[1])\n",
        "print(validation_label_seq[2])\n",
        "print(validation_label_seq.shape)"
      ],
      "execution_count": 42,
      "outputs": [
        {
          "output_type": "stream",
          "text": [
            "[4]\n",
            "[2]\n",
            "[1]\n",
            "(1780, 1)\n",
            "[5]\n",
            "[4]\n",
            "[3]\n",
            "(445, 1)\n"
          ],
          "name": "stdout"
        }
      ]
    },
    {
      "cell_type": "code",
      "metadata": {
        "colab_type": "code",
        "id": "HZ5um4MWZP-W",
        "outputId": "58210b01-26d2-4468-b3b9-25ced69bc9c8",
        "colab": {
          "base_uri": "https://localhost:8080/",
          "height": 357
        }
      },
      "source": [
        "from keras.models import Sequential\n",
        "from keras.layers import Dense,Dropout\n",
        "from keras.layers import Flatten\n",
        "from keras.layers import Embedding,LSTM,Bidirectional\n",
        "import keras\n",
        "model_i=Sequential()\n",
        "model_i.add(Embedding(vocab_size, vector_dim, weights=[emb_matrix], input_length=120, trainable=False))\n",
        "model_i.add(Bidirectional(LSTM(128)))\n",
        "model_i.add(Dropout(0.2))\n",
        "model_i.add(keras.layers.Dense(64, activation='relu'))\n",
        "model_i.add(Dropout(0.3))\n",
        "model_i.add(keras.layers.Dense(6, activation='softmax'))\n",
        "model_i.compile(loss='sparse_categorical_crossentropy',optimizer='adam',metrics=['accuracy'])\n",
        "model_i.summary()"
      ],
      "execution_count": 47,
      "outputs": [
        {
          "output_type": "stream",
          "text": [
            "Model: \"sequential_6\"\n",
            "_________________________________________________________________\n",
            "Layer (type)                 Output Shape              Param #   \n",
            "=================================================================\n",
            "embedding_9 (Embedding)      (None, 120, 200)          2000000   \n",
            "_________________________________________________________________\n",
            "bidirectional_3 (Bidirection (None, 256)               336896    \n",
            "_________________________________________________________________\n",
            "dropout_2 (Dropout)          (None, 256)               0         \n",
            "_________________________________________________________________\n",
            "dense_5 (Dense)              (None, 64)                16448     \n",
            "_________________________________________________________________\n",
            "dropout_3 (Dropout)          (None, 64)                0         \n",
            "_________________________________________________________________\n",
            "dense_6 (Dense)              (None, 6)                 390       \n",
            "=================================================================\n",
            "Total params: 2,353,734\n",
            "Trainable params: 353,734\n",
            "Non-trainable params: 2,000,000\n",
            "_________________________________________________________________\n"
          ],
          "name": "stdout"
        }
      ]
    },
    {
      "cell_type": "code",
      "metadata": {
        "colab_type": "code",
        "id": "XsfdxySKZSXu",
        "outputId": "47fa8458-f1bd-4e38-b003-e0ba3ab3ad7b",
        "colab": {
          "base_uri": "https://localhost:8080/",
          "height": 1000
        }
      },
      "source": [
        "num_epochs = 60\n",
        "history = model_i.fit(train_padded, training_label_seq, epochs=num_epochs, validation_data=(validation_padded, validation_label_seq), verbose=2)"
      ],
      "execution_count": 48,
      "outputs": [
        {
          "output_type": "stream",
          "text": [
            "Train on 1780 samples, validate on 445 samples\n",
            "Epoch 1/60\n",
            " - 20s - loss: 1.6414 - accuracy: 0.2500 - val_loss: 1.5568 - val_accuracy: 0.2809\n",
            "Epoch 2/60\n",
            " - 19s - loss: 1.4169 - accuracy: 0.3994 - val_loss: 1.3112 - val_accuracy: 0.4067\n",
            "Epoch 3/60\n",
            " - 20s - loss: 1.2332 - accuracy: 0.5079 - val_loss: 1.1254 - val_accuracy: 0.5775\n",
            "Epoch 4/60\n",
            " - 20s - loss: 1.0139 - accuracy: 0.6185 - val_loss: 1.1967 - val_accuracy: 0.5169\n",
            "Epoch 5/60\n",
            " - 19s - loss: 0.8215 - accuracy: 0.6955 - val_loss: 0.9697 - val_accuracy: 0.6494\n",
            "Epoch 6/60\n",
            " - 19s - loss: 0.6947 - accuracy: 0.7545 - val_loss: 0.9377 - val_accuracy: 0.6719\n",
            "Epoch 7/60\n",
            " - 20s - loss: 0.5934 - accuracy: 0.7860 - val_loss: 0.8674 - val_accuracy: 0.6652\n",
            "Epoch 8/60\n",
            " - 19s - loss: 0.4646 - accuracy: 0.8517 - val_loss: 0.7247 - val_accuracy: 0.7506\n",
            "Epoch 9/60\n",
            " - 19s - loss: 0.4073 - accuracy: 0.8618 - val_loss: 0.7833 - val_accuracy: 0.7596\n",
            "Epoch 10/60\n",
            " - 19s - loss: 0.3136 - accuracy: 0.9034 - val_loss: 0.6768 - val_accuracy: 0.7685\n",
            "Epoch 11/60\n",
            " - 19s - loss: 0.2745 - accuracy: 0.9140 - val_loss: 0.7027 - val_accuracy: 0.7685\n",
            "Epoch 12/60\n",
            " - 19s - loss: 0.2629 - accuracy: 0.9208 - val_loss: 0.8258 - val_accuracy: 0.7124\n",
            "Epoch 13/60\n",
            " - 19s - loss: 0.2456 - accuracy: 0.9236 - val_loss: 0.7657 - val_accuracy: 0.7506\n",
            "Epoch 14/60\n",
            " - 19s - loss: 0.1973 - accuracy: 0.9365 - val_loss: 0.7975 - val_accuracy: 0.7596\n",
            "Epoch 15/60\n",
            " - 19s - loss: 0.1801 - accuracy: 0.9444 - val_loss: 0.7461 - val_accuracy: 0.7888\n",
            "Epoch 16/60\n",
            " - 19s - loss: 0.1406 - accuracy: 0.9562 - val_loss: 0.7681 - val_accuracy: 0.7573\n",
            "Epoch 17/60\n",
            " - 20s - loss: 0.0682 - accuracy: 0.9826 - val_loss: 0.7510 - val_accuracy: 0.7955\n",
            "Epoch 18/60\n",
            " - 19s - loss: 0.0610 - accuracy: 0.9865 - val_loss: 0.9019 - val_accuracy: 0.7798\n",
            "Epoch 19/60\n",
            " - 19s - loss: 0.0373 - accuracy: 0.9910 - val_loss: 0.7705 - val_accuracy: 0.7933\n",
            "Epoch 20/60\n",
            " - 20s - loss: 0.0272 - accuracy: 0.9938 - val_loss: 0.9025 - val_accuracy: 0.7843\n",
            "Epoch 21/60\n",
            " - 20s - loss: 0.0307 - accuracy: 0.9921 - val_loss: 0.8046 - val_accuracy: 0.7933\n",
            "Epoch 22/60\n",
            " - 20s - loss: 0.0361 - accuracy: 0.9893 - val_loss: 0.7910 - val_accuracy: 0.8112\n",
            "Epoch 23/60\n",
            " - 20s - loss: 0.0267 - accuracy: 0.9933 - val_loss: 0.9025 - val_accuracy: 0.7618\n",
            "Epoch 24/60\n",
            " - 20s - loss: 0.0205 - accuracy: 0.9966 - val_loss: 0.9072 - val_accuracy: 0.8000\n",
            "Epoch 25/60\n",
            " - 20s - loss: 0.0078 - accuracy: 0.9989 - val_loss: 0.9692 - val_accuracy: 0.8067\n",
            "Epoch 26/60\n",
            " - 20s - loss: 0.0054 - accuracy: 0.9994 - val_loss: 0.9104 - val_accuracy: 0.8180\n",
            "Epoch 27/60\n",
            " - 20s - loss: 0.0136 - accuracy: 0.9961 - val_loss: 1.0013 - val_accuracy: 0.7663\n",
            "Epoch 28/60\n",
            " - 20s - loss: 0.0528 - accuracy: 0.9848 - val_loss: 0.9851 - val_accuracy: 0.7843\n",
            "Epoch 29/60\n",
            " - 20s - loss: 0.0413 - accuracy: 0.9860 - val_loss: 0.9122 - val_accuracy: 0.7843\n",
            "Epoch 30/60\n",
            " - 20s - loss: 0.0534 - accuracy: 0.9843 - val_loss: 1.0512 - val_accuracy: 0.7371\n",
            "Epoch 31/60\n",
            " - 20s - loss: 0.0717 - accuracy: 0.9764 - val_loss: 0.9942 - val_accuracy: 0.7775\n",
            "Epoch 32/60\n",
            " - 20s - loss: 0.1405 - accuracy: 0.9562 - val_loss: 0.9355 - val_accuracy: 0.7596\n",
            "Epoch 33/60\n",
            " - 20s - loss: 0.0463 - accuracy: 0.9865 - val_loss: 0.8096 - val_accuracy: 0.7843\n",
            "Epoch 34/60\n",
            " - 20s - loss: 0.0664 - accuracy: 0.9787 - val_loss: 1.1784 - val_accuracy: 0.7056\n",
            "Epoch 35/60\n",
            " - 20s - loss: 0.1160 - accuracy: 0.9629 - val_loss: 0.9581 - val_accuracy: 0.7551\n",
            "Epoch 36/60\n",
            " - 20s - loss: 0.0461 - accuracy: 0.9865 - val_loss: 0.8581 - val_accuracy: 0.7753\n",
            "Epoch 37/60\n",
            " - 20s - loss: 0.0128 - accuracy: 0.9989 - val_loss: 1.1061 - val_accuracy: 0.7730\n",
            "Epoch 38/60\n",
            " - 20s - loss: 0.0524 - accuracy: 0.9854 - val_loss: 0.9565 - val_accuracy: 0.7933\n",
            "Epoch 39/60\n",
            " - 19s - loss: 0.0100 - accuracy: 0.9961 - val_loss: 1.0172 - val_accuracy: 0.7933\n",
            "Epoch 40/60\n",
            " - 19s - loss: 0.0043 - accuracy: 0.9994 - val_loss: 0.9616 - val_accuracy: 0.8157\n",
            "Epoch 41/60\n",
            " - 19s - loss: 0.0039 - accuracy: 0.9994 - val_loss: 0.9452 - val_accuracy: 0.8180\n",
            "Epoch 42/60\n",
            " - 19s - loss: 0.0015 - accuracy: 1.0000 - val_loss: 0.9874 - val_accuracy: 0.8315\n",
            "Epoch 43/60\n",
            " - 19s - loss: 0.0012 - accuracy: 1.0000 - val_loss: 0.9509 - val_accuracy: 0.8337\n",
            "Epoch 44/60\n",
            " - 19s - loss: 0.0016 - accuracy: 1.0000 - val_loss: 1.0028 - val_accuracy: 0.8382\n",
            "Epoch 45/60\n",
            " - 19s - loss: 9.0806e-04 - accuracy: 1.0000 - val_loss: 0.9318 - val_accuracy: 0.8315\n",
            "Epoch 46/60\n",
            " - 19s - loss: 9.8232e-04 - accuracy: 1.0000 - val_loss: 0.9811 - val_accuracy: 0.8360\n",
            "Epoch 47/60\n",
            " - 20s - loss: 0.0015 - accuracy: 1.0000 - val_loss: 0.9869 - val_accuracy: 0.8112\n",
            "Epoch 48/60\n",
            " - 19s - loss: 8.3833e-04 - accuracy: 1.0000 - val_loss: 0.9159 - val_accuracy: 0.8404\n",
            "Epoch 49/60\n",
            " - 20s - loss: 0.0057 - accuracy: 0.9989 - val_loss: 1.2948 - val_accuracy: 0.7888\n",
            "Epoch 50/60\n",
            " - 19s - loss: 0.0407 - accuracy: 0.9860 - val_loss: 0.9946 - val_accuracy: 0.7640\n",
            "Epoch 51/60\n",
            " - 19s - loss: 0.0202 - accuracy: 0.9927 - val_loss: 1.2863 - val_accuracy: 0.7348\n",
            "Epoch 52/60\n",
            " - 19s - loss: 0.0249 - accuracy: 0.9921 - val_loss: 0.9220 - val_accuracy: 0.8045\n",
            "Epoch 53/60\n",
            " - 19s - loss: 0.0130 - accuracy: 0.9955 - val_loss: 1.0330 - val_accuracy: 0.7775\n",
            "Epoch 54/60\n",
            " - 19s - loss: 0.0070 - accuracy: 0.9983 - val_loss: 1.0220 - val_accuracy: 0.7708\n",
            "Epoch 55/60\n",
            " - 19s - loss: 0.0041 - accuracy: 1.0000 - val_loss: 0.9855 - val_accuracy: 0.8112\n",
            "Epoch 56/60\n",
            " - 19s - loss: 0.0016 - accuracy: 1.0000 - val_loss: 0.9473 - val_accuracy: 0.8112\n",
            "Epoch 57/60\n",
            " - 19s - loss: 8.3256e-04 - accuracy: 1.0000 - val_loss: 0.9406 - val_accuracy: 0.8292\n",
            "Epoch 58/60\n",
            " - 19s - loss: 0.0016 - accuracy: 1.0000 - val_loss: 0.9580 - val_accuracy: 0.8157\n",
            "Epoch 59/60\n",
            " - 19s - loss: 0.0011 - accuracy: 1.0000 - val_loss: 0.9726 - val_accuracy: 0.8337\n",
            "Epoch 60/60\n",
            " - 19s - loss: 5.8483e-04 - accuracy: 1.0000 - val_loss: 0.9852 - val_accuracy: 0.8404\n"
          ],
          "name": "stdout"
        }
      ]
    },
    {
      "cell_type": "code",
      "metadata": {
        "id": "JeJwiphY25Qp",
        "colab_type": "code",
        "outputId": "6a500c6e-e3d6-4815-feb9-7a54893989fc",
        "colab": {
          "base_uri": "https://localhost:8080/",
          "height": 34
        }
      },
      "source": [
        "reverse_word_index = dict([(value, key) for (key, value) in word_index.items()])\n",
        "\n",
        "def decode_sentence(text):\n",
        "    return ' '.join([reverse_word_index.get(i, '?') for i in text])\n",
        "e = model_i.layers[0]\n",
        "weights = e.get_weights()[0]\n",
        "print(weights.shape)"
      ],
      "execution_count": 49,
      "outputs": [
        {
          "output_type": "stream",
          "text": [
            "(10000, 200)\n"
          ],
          "name": "stdout"
        }
      ]
    },
    {
      "cell_type": "code",
      "metadata": {
        "id": "91qSypxH5GbJ",
        "colab_type": "code",
        "colab": {}
      },
      "source": [
        "import io\n",
        "\n",
        "out_v = io.open('vecs.tsv', 'w', encoding='utf-8')\n",
        "out_m = io.open('meta.tsv', 'w', encoding='utf-8')\n",
        "for word_num in range(1, vocab_size):\n",
        "  word = reverse_word_index[word_num]\n",
        "  embeddings = weights[word_num]\n",
        "  out_m.write(word + \"\\n\")\n",
        "  out_v.write('\\t'.join([str(x) for x in embeddings]) + \"\\n\")\n",
        "out_v.close()\n",
        "out_m.close()"
      ],
      "execution_count": 0,
      "outputs": []
    },
    {
      "cell_type": "code",
      "metadata": {
        "id": "3Qfv_psh5IGM",
        "colab_type": "code",
        "colab": {}
      },
      "source": [
        "try:\n",
        "  from google.colab import files\n",
        "except ImportError:\n",
        "  pass\n",
        "else:\n",
        "  files.download('vecs.tsv')\n",
        "  files.download('meta.tsv')"
      ],
      "execution_count": 0,
      "outputs": []
    },
    {
      "cell_type": "code",
      "metadata": {
        "id": "tRzEbBWkuCz0",
        "colab_type": "code",
        "colab": {}
      },
      "source": [
        ""
      ],
      "execution_count": 0,
      "outputs": []
    }
  ]
}